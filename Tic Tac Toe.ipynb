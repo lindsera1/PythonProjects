{
 "cells": [
  {
   "cell_type": "code",
   "execution_count": 2,
   "metadata": {},
   "outputs": [],
   "source": [
    "from IPython.display import clear_output"
   ]
  },
  {
   "cell_type": "code",
   "execution_count": 3,
   "metadata": {},
   "outputs": [],
   "source": [
    "def myboard(board = ' '):\n",
    "        print( board[7], '|', board[8], '|', board[9] )\n",
    "        print('---------')\n",
    "        print( board[4], '|', board[5], '|', board[6] )\n",
    "        print('---------')\n",
    "        print( board[1], '|', board[2], '|', board[3] )\n",
    "    \n",
    "    \n"
   ]
  },
  {
   "cell_type": "code",
   "execution_count": 4,
   "metadata": {},
   "outputs": [
    {
     "name": "stdout",
     "output_type": "stream",
     "text": [
      "  |   |  \n",
      "---------\n",
      "  |   |  \n",
      "---------\n",
      "  |   |  \n"
     ]
    }
   ],
   "source": [
    "board = ['#',' ',' ',' ',' ',' ',' ',' ',' ',' ']\n",
    "\n",
    "myboard(board)"
   ]
  },
  {
   "cell_type": "code",
   "execution_count": 5,
   "metadata": {},
   "outputs": [],
   "source": [
    "def player_input():\n",
    "    \n",
    "    player_1 = ''\n",
    "    player_2 = ''\n",
    "    \n",
    "    while player_1 not in ['X','O']:\n",
    "        \n",
    "        player_1 = input('Player 1, would you like to be X or O?: ').upper()\n",
    "        \n",
    "        if player_1 not in ['X','O']:\n",
    "            print('Sorry, that is not a choice :(')\n",
    "        \n",
    "    if player_1 == 'X':\n",
    "        player_2 = 'O'\n",
    "    else:\n",
    "        player_2 = 'X'\n",
    "        \n",
    "    print(\"Player 1 is \" + player_1 + \" and \" + \"Player 2 is \" + player_2)    \n",
    "    return (player_1, player_2)\n",
    "        \n",
    "      "
   ]
  },
  {
   "cell_type": "code",
   "execution_count": 6,
   "metadata": {},
   "outputs": [],
   "source": [
    " def place_marker(board, marker, position):\n",
    "        \n",
    "    board[position]=marker\n",
    "        \n",
    "    return myboard(board)\n",
    "    \n"
   ]
  },
  {
   "cell_type": "code",
   "execution_count": 6,
   "metadata": {},
   "outputs": [],
   "source": [
    "place_marker(board, 'O',1)"
   ]
  },
  {
   "cell_type": "code",
   "execution_count": 7,
   "metadata": {},
   "outputs": [],
   "source": [
    "def win_check(board, mark):\n",
    "    \n",
    "    return ((board[1] == mark and board[2] == mark and board[3] == mark) or  \n",
    "    (board[4] == mark and board[5] == mark and board[6] == mark) or  \n",
    "    (board[7] == mark and board[8] == mark and board[9] == mark) or \n",
    "    (board[1] == mark and board[4] == mark and board[7] == mark) or  \n",
    "    (board[2] == mark and board[5] == mark and board[8] == mark) or \n",
    "    (board[3] == mark and board[6] == mark and board[9] == mark) or \n",
    "    (board[1] == mark and board[5] == mark and board[9] == mark) or\n",
    "    (board[3] == mark and board[5] == mark and board[7] == mark))\n",
    "        \n",
    "        \n"
   ]
  },
  {
   "cell_type": "code",
   "execution_count": 8,
   "metadata": {},
   "outputs": [
    {
     "ename": "NameError",
     "evalue": "name 'test_board' is not defined",
     "output_type": "error",
     "traceback": [
      "\u001b[0;31m---------------------------------------------------------------------------\u001b[0m",
      "\u001b[0;31mNameError\u001b[0m                                 Traceback (most recent call last)",
      "\u001b[0;32m<ipython-input-8-bd283b57ce29>\u001b[0m in \u001b[0;36m<module>\u001b[0;34m\u001b[0m\n\u001b[0;32m----> 1\u001b[0;31m \u001b[0mwin_check\u001b[0m\u001b[0;34m(\u001b[0m\u001b[0mtest_board\u001b[0m\u001b[0;34m,\u001b[0m\u001b[0;34m'X'\u001b[0m\u001b[0;34m)\u001b[0m\u001b[0;34m\u001b[0m\u001b[0;34m\u001b[0m\u001b[0m\n\u001b[0m",
      "\u001b[0;31mNameError\u001b[0m: name 'test_board' is not defined"
     ]
    }
   ],
   "source": [
    "win_check(test_board,'X')"
   ]
  },
  {
   "cell_type": "code",
   "execution_count": 8,
   "metadata": {},
   "outputs": [],
   "source": [
    "import random"
   ]
  },
  {
   "cell_type": "code",
   "execution_count": 9,
   "metadata": {},
   "outputs": [],
   "source": [
    "def choose_first():\n",
    "    \n",
    "    turn = \"Player \" + str(random.randint(1,2)) + \", you go first!\"\n",
    "    \n",
    "    return turn"
   ]
  },
  {
   "cell_type": "code",
   "execution_count": null,
   "metadata": {},
   "outputs": [],
   "source": [
    "choose_first()"
   ]
  },
  {
   "cell_type": "code",
   "execution_count": 10,
   "metadata": {},
   "outputs": [],
   "source": [
    "def space_check(board, position):\n",
    "    \n",
    "    return board[position] == ' '"
   ]
  },
  {
   "cell_type": "code",
   "execution_count": null,
   "metadata": {},
   "outputs": [],
   "source": [
    "space_check(test_board, 8)"
   ]
  },
  {
   "cell_type": "code",
   "execution_count": 11,
   "metadata": {},
   "outputs": [],
   "source": [
    "def full_board_check(board):\n",
    "    \n",
    "    for item in range(1, len(board)):\n",
    "        if board[item] == ' ':\n",
    "            return False\n",
    "    return True"
   ]
  },
  {
   "cell_type": "code",
   "execution_count": null,
   "metadata": {},
   "outputs": [],
   "source": [
    "full_board_check(board)"
   ]
  },
  {
   "cell_type": "code",
   "execution_count": 12,
   "metadata": {},
   "outputs": [],
   "source": [
    "def player_choice(board): \n",
    "    \n",
    "    position = 0 \n",
    "    \n",
    "    while position not in list(range(1,10)) or not space_check(board,position):\n",
    "        \n",
    "    # or not space_check is the same as saying \"while space_check is\n",
    "    #false, meaning the position the player chose is not free\" continue\n",
    "    #asking for a new position.\n",
    "    \n",
    "        position = int(input(\"Please pick a position (1-9): \"))\n",
    "        \n",
    "     \n",
    "   #we use return, so we can store the position as a variable.     \n",
    "    return position\n",
    "        \n",
    "        \n",
    "        "
   ]
  },
  {
   "cell_type": "code",
   "execution_count": null,
   "metadata": {},
   "outputs": [],
   "source": [
    "player_choice(test_board)"
   ]
  },
  {
   "cell_type": "code",
   "execution_count": 13,
   "metadata": {},
   "outputs": [],
   "source": [
    "def replay():\n",
    "    \n",
    "    choice = ''\n",
    "    \n",
    "    while choice not in ['Y','N']:\n",
    "    \n",
    "        choice = input(\"Would you like to play again? Y or N: \")\n",
    "        \n",
    "        if choice == \"Y\":\n",
    "            return True\n",
    "        elif choice == 'N':\n",
    "            return False"
   ]
  },
  {
   "cell_type": "code",
   "execution_count": null,
   "metadata": {},
   "outputs": [],
   "source": [
    "replay()"
   ]
  },
  {
   "cell_type": "code",
   "execution_count": null,
   "metadata": {},
   "outputs": [
    {
     "name": "stdout",
     "output_type": "stream",
     "text": [
      "Welcome to Tic Tac Toe!\n",
      "Are you ready to play? Yes or No: Yes\n",
      "Player 1, would you like to be X or O?: O\n",
      "Player 1 is O and Player 2 is X\n",
      "Player 2, your turn!\n",
      "  |   |  \n",
      "---------\n",
      "  |   |  \n",
      "---------\n",
      "  |   |  \n"
     ]
    }
   ],
   "source": [
    "print(\"Welcome to Tic Tac Toe!\")\n",
    "\n",
    "while True:\n",
    "    \n",
    "    def game_on():\n",
    "        \n",
    "        game_on = ''\n",
    "    \n",
    "        while game_on not in ['Yes','No']:\n",
    "        \n",
    "            game_on = input(\"Are you ready to play? Yes or No: \")\n",
    "        \n",
    "            if game_on == 'Yes':\n",
    "            \n",
    "                return True\n",
    "            else:\n",
    "                return False\n",
    "            \n",
    "    game_choice = game_on()\n",
    "    \n",
    "    if game_choice == False:\n",
    "        break\n",
    "    \n",
    "    board = [' ']*10\n",
    "    player1, player2 = player_input()\n",
    "    player1_marker = player1\n",
    "    player2_marker = player2\n",
    "    \n",
    "    choose_first()\n",
    "        \n",
    "    turn = choose_first()\n",
    "        \n",
    "    if '1' in turn:\n",
    "                \n",
    "        turn = player1\n",
    "    else:\n",
    "        turn = player2\n",
    "            \n",
    "    if player1 == turn:\n",
    "            \n",
    "        turn = True\n",
    "            \n",
    "    else:\n",
    "            \n",
    "        turn = False\n",
    "    \n",
    "    while game_choice == True:\n",
    "            \n",
    "        while turn:\n",
    "            \n",
    "            print(\"Player 1, your turn!\")\n",
    "            \n",
    "            player1_marker = player1\n",
    "            \n",
    "            myboard(board)\n",
    "            \n",
    "            position = player_choice(board)\n",
    "            \n",
    "            place_marker(board, player1_marker, position)\n",
    "            \n",
    "            full_board_check(board)\n",
    "            \n",
    "            if full_board_check(board) == False:\n",
    "                \n",
    "                win_check(board, player1_marker)\n",
    "                    \n",
    "                if win_check(board, player1_marker) == True:\n",
    "                        \n",
    "                    print(\"Player 1 is the winner!\")\n",
    "                        \n",
    "                    choice = replay()\n",
    "                        \n",
    "                    if choice == True:\n",
    "                            \n",
    "                        game_choice = True\n",
    "                        \n",
    "                        board = [' ']*10\n",
    "                        \n",
    "                        break\n",
    "                    \n",
    "                    else:\n",
    "                        \n",
    "                        game_choice = False\n",
    "                        \n",
    "                        board = [' ']*10\n",
    "                        \n",
    "                        break\n",
    "                        \n",
    "                else:\n",
    "                    \n",
    "                    turn = False\n",
    "                    \n",
    "            if full_board_check(board) == True:\n",
    "                \n",
    "                print(\"The board is full! It is a tie.\")\n",
    "                \n",
    "                choice = replay()\n",
    "                \n",
    "                if choice == True:\n",
    "                \n",
    "                    game_choice = True\n",
    "                    \n",
    "                    board = [' ']*10\n",
    "                    \n",
    "                    break\n",
    "                    \n",
    "                else:\n",
    "                    \n",
    "                    game_choice = False\n",
    "                    \n",
    "                    board = [' ']*10\n",
    "                    \n",
    "                    break\n",
    "            \n",
    "        while not turn:\n",
    "            \n",
    "            print('Player 2, your turn!')\n",
    "            \n",
    "            player2_marker = player2\n",
    "            \n",
    "            myboard(board)\n",
    "            \n",
    "            position = player_choice(board)\n",
    "                \n",
    "            place_marker(board, player2_marker, position)\n",
    "            \n",
    "            full_board_check(board)\n",
    "            \n",
    "            if full_board_check(board) == False:\n",
    "                    \n",
    "                win_check(board, player2_marker)\n",
    "                    \n",
    "                if win_check(board, player2_marker) == True:\n",
    "                        \n",
    "                    print(\"Player 2 is the winner!\")\n",
    "                        \n",
    "                    choice = replay()\n",
    "                        \n",
    "                    if choice == True:\n",
    "                            \n",
    "                        game_choice = True\n",
    "                        \n",
    "                        board = [' ']*10\n",
    "                        \n",
    "                        break\n",
    "                        \n",
    "                    else:\n",
    "                        \n",
    "                        game_choice = False\n",
    "                        \n",
    "                        board = [' ']*10\n",
    "                        \n",
    "                        break\n",
    "                        \n",
    "                else:\n",
    "                    \n",
    "                    turn = True\n",
    "        \n",
    "                            \n",
    "            else:\n",
    "                \n",
    "                print(\"The board is full! It is a tie.\")\n",
    "                \n",
    "                choice = replay()\n",
    "                \n",
    "                if choice == True:\n",
    "                \n",
    "                    game_choice = True\n",
    "                    \n",
    "                    board = [' ']*10\n",
    "                    \n",
    "                    break\n",
    "                \n",
    "                else:\n",
    "                    \n",
    "                    game_choice = False\n",
    "                    \n",
    "                    board = [' ']*10\n",
    "                    \n",
    "                    break\n",
    "                \n",
    "            \n",
    "        if game_choice == False:\n",
    "        \n",
    "            print(\"See you later!\")\n",
    "            \n",
    "            break\n",
    "\n",
    "\n",
    "    \n",
    "    "
   ]
  },
  {
   "cell_type": "code",
   "execution_count": null,
   "metadata": {},
   "outputs": [],
   "source": [
    "list(range(1,10))"
   ]
  },
  {
   "cell_type": "code",
   "execution_count": null,
   "metadata": {},
   "outputs": [],
   "source": []
  }
 ],
 "metadata": {
  "kernelspec": {
   "display_name": "Python 3",
   "language": "python",
   "name": "python3"
  },
  "language_info": {
   "codemirror_mode": {
    "name": "ipython",
    "version": 3
   },
   "file_extension": ".py",
   "mimetype": "text/x-python",
   "name": "python",
   "nbconvert_exporter": "python",
   "pygments_lexer": "ipython3",
   "version": "3.7.6"
  }
 },
 "nbformat": 4,
 "nbformat_minor": 4
}
